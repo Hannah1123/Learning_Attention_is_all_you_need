{
  "nbformat": 4,
  "nbformat_minor": 0,
  "metadata": {
    "colab": {
      "name": "meeting_note.ipynb",
      "provenance": [],
      "authorship_tag": "ABX9TyMPeJAn649sJFUPFauW2BAj",
      "include_colab_link": true
    },
    "kernelspec": {
      "name": "python3",
      "display_name": "Python 3"
    }
  },
  "cells": [
    {
      "cell_type": "markdown",
      "metadata": {
        "id": "view-in-github",
        "colab_type": "text"
      },
      "source": [
        "<a href=\"https://colab.research.google.com/github/Hannah1123/Learning_Attention_is_all_you_need/blob/master/meeting_note.ipynb\" target=\"_parent\"><img src=\"https://colab.research.google.com/assets/colab-badge.svg\" alt=\"Open In Colab\"/></a>"
      ]
    },
    {
      "cell_type": "code",
      "metadata": {
        "id": "uOKNPoqmxSOD",
        "colab": {
          "base_uri": "https://localhost:8080/",
          "height": 102
        },
        "outputId": "fc5f6680-642c-478a-96cc-45d1789335a7"
      },
      "source": [
        "!git clone https://github.com/fxia22/pointnet.pytorch.git"
      ],
      "execution_count": null,
      "outputs": [
        {
          "output_type": "stream",
          "text": [
            "Cloning into 'pointnet.pytorch'...\n",
            "remote: Enumerating objects: 209, done.\u001b[K\n",
            "Receiving objects:   0% (1/209)   \rReceiving objects:   1% (3/209)   \rReceiving objects:   2% (5/209)   \rReceiving objects:   3% (7/209)   \rReceiving objects:   4% (9/209)   \rReceiving objects:   5% (11/209)   \rReceiving objects:   6% (13/209)   \rReceiving objects:   7% (15/209)   \rReceiving objects:   8% (17/209)   \rReceiving objects:   9% (19/209)   \rReceiving objects:  10% (21/209)   \rReceiving objects:  11% (23/209)   \rReceiving objects:  12% (26/209)   \rReceiving objects:  13% (28/209)   \rReceiving objects:  14% (30/209)   \rReceiving objects:  15% (32/209)   \rReceiving objects:  16% (34/209)   \rReceiving objects:  17% (36/209)   \rReceiving objects:  18% (38/209)   \rReceiving objects:  19% (40/209)   \rReceiving objects:  20% (42/209)   \rReceiving objects:  21% (44/209)   \rReceiving objects:  22% (46/209)   \rReceiving objects:  23% (49/209)   \rReceiving objects:  24% (51/209)   \rReceiving objects:  25% (53/209)   \rReceiving objects:  26% (55/209)   \rReceiving objects:  27% (57/209)   \rReceiving objects:  28% (59/209)   \rReceiving objects:  29% (61/209)   \rReceiving objects:  30% (63/209)   \rReceiving objects:  31% (65/209)   \rReceiving objects:  32% (67/209)   \rReceiving objects:  33% (69/209)   \rReceiving objects:  34% (72/209)   \rReceiving objects:  35% (74/209)   \rReceiving objects:  36% (76/209)   \rReceiving objects:  37% (78/209)   \rReceiving objects:  38% (80/209)   \rReceiving objects:  39% (82/209)   \rReceiving objects:  40% (84/209)   \rReceiving objects:  41% (86/209)   \rReceiving objects:  42% (88/209)   \rReceiving objects:  43% (90/209)   \rReceiving objects:  44% (92/209)   \rReceiving objects:  45% (95/209)   \rReceiving objects:  46% (97/209)   \rReceiving objects:  47% (99/209)   \rReceiving objects:  48% (101/209)   \rReceiving objects:  49% (103/209)   \rReceiving objects:  50% (105/209)   \rReceiving objects:  51% (107/209)   \rReceiving objects:  52% (109/209)   \rReceiving objects:  53% (111/209)   \rReceiving objects:  54% (113/209)   \rremote: Total 209 (delta 0), reused 0 (delta 0), pack-reused 209\u001b[K\n",
            "Receiving objects:  55% (115/209)   \rReceiving objects:  56% (118/209)   \rReceiving objects:  57% (120/209)   \rReceiving objects:  58% (122/209)   \rReceiving objects:  59% (124/209)   \rReceiving objects:  60% (126/209)   \rReceiving objects:  61% (128/209)   \rReceiving objects:  62% (130/209)   \rReceiving objects:  63% (132/209)   \rReceiving objects:  64% (134/209)   \rReceiving objects:  65% (136/209)   \rReceiving objects:  66% (138/209)   \rReceiving objects:  67% (141/209)   \rReceiving objects:  68% (143/209)   \rReceiving objects:  69% (145/209)   \rReceiving objects:  70% (147/209)   \rReceiving objects:  71% (149/209)   \rReceiving objects:  72% (151/209)   \rReceiving objects:  73% (153/209)   \rReceiving objects:  74% (155/209)   \rReceiving objects:  75% (157/209)   \rReceiving objects:  76% (159/209)   \rReceiving objects:  77% (161/209)   \rReceiving objects:  78% (164/209)   \rReceiving objects:  79% (166/209)   \rReceiving objects:  80% (168/209)   \rReceiving objects:  81% (170/209)   \rReceiving objects:  82% (172/209)   \rReceiving objects:  83% (174/209)   \rReceiving objects:  84% (176/209)   \rReceiving objects:  85% (178/209)   \rReceiving objects:  86% (180/209)   \rReceiving objects:  87% (182/209)   \rReceiving objects:  88% (184/209)   \rReceiving objects:  89% (187/209)   \rReceiving objects:  90% (189/209)   \rReceiving objects:  91% (191/209)   \rReceiving objects:  92% (193/209)   \rReceiving objects:  93% (195/209)   \rReceiving objects:  94% (197/209)   \rReceiving objects:  95% (199/209)   \rReceiving objects:  96% (201/209)   \rReceiving objects:  97% (203/209)   \rReceiving objects:  98% (205/209)   \rReceiving objects:  99% (207/209)   \rReceiving objects: 100% (209/209)   \rReceiving objects: 100% (209/209), 228.47 KiB | 2.28 MiB/s, done.\n",
            "Resolving deltas:   0% (0/122)   \rResolving deltas:   1% (2/122)   \rResolving deltas:   2% (3/122)   \rResolving deltas:   5% (7/122)   \rResolving deltas:   7% (9/122)   \rResolving deltas:   9% (11/122)   \rResolving deltas:  19% (24/122)   \rResolving deltas:  29% (36/122)   \rResolving deltas:  35% (43/122)   \rResolving deltas:  39% (48/122)   \rResolving deltas:  40% (50/122)   \rResolving deltas:  43% (53/122)   \rResolving deltas:  50% (62/122)   \rResolving deltas:  61% (75/122)   \rResolving deltas:  73% (90/122)   \rResolving deltas:  77% (95/122)   \rResolving deltas:  84% (103/122)   \rResolving deltas:  99% (121/122)   \rResolving deltas: 100% (122/122)   \rResolving deltas: 100% (122/122), done.\n"
          ],
          "name": "stdout"
        }
      ]
    },
    {
      "cell_type": "code",
      "metadata": {
        "id": "v-Uo95kuyc28",
        "colab": {
          "base_uri": "https://localhost:8080/",
          "height": 34
        },
        "outputId": "0da59a9d-73d8-41f6-eb4d-1284515259d3"
      },
      "source": [
        "pwd"
      ],
      "execution_count": null,
      "outputs": [
        {
          "output_type": "execute_result",
          "data": {
            "text/plain": [
              "'/content'"
            ]
          },
          "metadata": {
            "tags": []
          },
          "execution_count": 1
        }
      ]
    },
    {
      "cell_type": "code",
      "metadata": {
        "id": "ZqE01njDytfi",
        "colab": {
          "base_uri": "https://localhost:8080/",
          "height": 34
        },
        "outputId": "b877b389-c500-4d20-e552-498299fc2774"
      },
      "source": [
        "cd /content/pointnet.pytorch/utils/"
      ],
      "execution_count": null,
      "outputs": [
        {
          "output_type": "stream",
          "text": [
            "/content/pointnet.pytorch/utils\n"
          ],
          "name": "stdout"
        }
      ]
    },
    {
      "cell_type": "code",
      "metadata": {
        "id": "KbCHSCXly9sA",
        "colab": {
          "base_uri": "https://localhost:8080/",
          "height": 51
        },
        "outputId": "a26bf9df-4ddb-4126-9b7b-8514a9aefd7e"
      },
      "source": [
        "ls"
      ],
      "execution_count": null,
      "outputs": [
        {
          "output_type": "stream",
          "text": [
            "render_balls_so.cpp  show_cls.py  train_classification.py\n",
            "show3d_balls.py      show_seg.py  train_segmentation.py\n"
          ],
          "name": "stdout"
        }
      ]
    },
    {
      "cell_type": "code",
      "metadata": {
        "id": "I9TvA-mty-ub"
      },
      "source": [
        "import os\n",
        "import random\n",
        "import torch\n",
        "import torch.optim as optim\n",
        "import torch.utils.data as data\n",
        "import torch.nn.functional as fn\n",
        "from torch.autograd import Variable\n",
        "import torch.nn as nn\n",
        "import numpy as np\n",
        "\n",
        "# from pointnet.dataset import ShapeNetDataset, ModelNetDataset\n",
        "# from pointnet.model import PointNetCls, feature_transform_regularizer"
      ],
      "execution_count": null,
      "outputs": []
    },
    {
      "cell_type": "code",
      "metadata": {
        "id": "cOZjNL0R3mtg"
      },
      "source": [
        "import h5py"
      ],
      "execution_count": null,
      "outputs": []
    },
    {
      "cell_type": "code",
      "metadata": {
        "id": "Leaa_Nkh8p53"
      },
      "source": [
        "class ModelNetDataset(data.Dataset):\n",
        "    def __init__(self,\n",
        "                 root,\n",
        "                 npoints=2500,\n",
        "                 split='train',\n",
        "                 data_augmentation=True):\n",
        "        self.npoints = npoints\n",
        "        self.root = root\n",
        "        self.split = split\n",
        "        self.data_augmentation = data_augmentation\n",
        "        self.fns = []\n",
        "        with open(os.path.join(root, '{}.txt'.format(self.split)), 'r') as f:\n",
        "            for line in f:\n",
        "                self.fns.append(line.strip())\n",
        "\n",
        "        self.cat = {}\n",
        "        with open(os.path.join(os.path.dirname(os.path.realpath(__file__)), '../misc/modelnet_id.txt'), 'r') as f:\n",
        "            for line in f:\n",
        "                ls = line.strip().split()\n",
        "                self.cat[ls[0]] = int(ls[1])\n",
        "\n",
        "        print(self.cat)\n",
        "        self.classes = list(self.cat.keys())\n",
        "\n",
        "    def __getitem__(self, index):\n",
        "        fn = self.fns[index]\n",
        "        cls = self.cat[fn.split('/')[0]]\n",
        "        with open(os.path.join(self.root, fn), 'rb') as f:\n",
        "            plydata = PlyData.read(f)\n",
        "        pts = np.vstack([plydata['vertex']['x'], plydata['vertex']['y'], plydata['vertex']['z']]).T\n",
        "        choice = np.random.choice(len(pts), self.npoints, replace=True)\n",
        "        point_set = pts[choice, :]\n",
        "\n",
        "        point_set = point_set - np.expand_dims(np.mean(point_set, axis=0), 0)  # center\n",
        "        dist = np.max(np.sqrt(np.sum(point_set ** 2, axis=1)), 0)\n",
        "        point_set = point_set / dist  # scale\n",
        "\n",
        "        if self.data_augmentation:\n",
        "            theta = np.random.uniform(0, np.pi * 2)\n",
        "            rotation_matrix = np.array([[np.cos(theta), -np.sin(theta)], [np.sin(theta), np.cos(theta)]])\n",
        "            point_set[:, [0, 2]] = point_set[:, [0, 2]].dot(rotation_matrix)  # random rotation\n",
        "            point_set += np.random.normal(0, 0.02, size=point_set.shape)  # random jitter\n",
        "\n",
        "        point_set = torch.from_numpy(point_set.astype(np.float32))\n",
        "        cls = torch.from_numpy(np.array([cls]).astype(np.int64))\n",
        "        return point_set, cls\n",
        "\n",
        "\n",
        "    def __len__(self):\n",
        "        return len(self.fns)\n"
      ],
      "execution_count": null,
      "outputs": []
    },
    {
      "cell_type": "code",
      "metadata": {
        "id": "OSnJLLCk3sdR"
      },
      "source": [
        "torch.manual_seed(42)\n",
        "rng = np.random.RandomState(42)\n",
        "#dataset = ModelNetDataset(\n",
        "#    root=opt.dataset,\n",
        "#    npoints=opt.num_points,\n",
        "#    split='trainval')"
      ],
      "execution_count": null,
      "outputs": []
    },
    {
      "cell_type": "markdown",
      "metadata": {
        "id": "G3WrVGafrCXy"
      },
      "source": [
        "##load data"
      ]
    },
    {
      "cell_type": "code",
      "metadata": {
        "id": "pa-b-KH1JmWR",
        "colab": {
          "base_uri": "https://localhost:8080/",
          "height": 122
        },
        "outputId": "9d9fba58-1e3b-42ca-aafd-d9367d8ce451"
      },
      "source": [
        "# Connecting to GDrive\n",
        "from google.colab import drive\n",
        "drive.mount('/content/gdrive')"
      ],
      "execution_count": null,
      "outputs": [
        {
          "output_type": "stream",
          "text": [
            "Go to this URL in a browser: https://accounts.google.com/o/oauth2/auth?client_id=947318989803-6bn6qk8qdgf4n4g3pfee6491hc0brc4i.apps.googleusercontent.com&redirect_uri=urn%3aietf%3awg%3aoauth%3a2.0%3aoob&response_type=code&scope=email%20https%3a%2f%2fwww.googleapis.com%2fauth%2fdocs.test%20https%3a%2f%2fwww.googleapis.com%2fauth%2fdrive%20https%3a%2f%2fwww.googleapis.com%2fauth%2fdrive.photos.readonly%20https%3a%2f%2fwww.googleapis.com%2fauth%2fpeopleapi.readonly\n",
            "\n",
            "Enter your authorization code:\n",
            "··········\n",
            "Mounted at /content/gdrive\n"
          ],
          "name": "stdout"
        }
      ]
    },
    {
      "cell_type": "code",
      "metadata": {
        "id": "8B4PMrr8J0FJ"
      },
      "source": [
        "# Changing to the working directory to access sample images\n",
        "cd /content/gdrive/My Drive/pointcloud/modelnet40_ply_hdf5_2048"
      ],
      "execution_count": null,
      "outputs": []
    },
    {
      "cell_type": "code",
      "metadata": {
        "id": "qLe4patXJ5vh"
      },
      "source": [
        "import h5py\n",
        "import numpy as np\n",
        "\n",
        "#h5文件的读取  \n",
        "data0 = h5py.File('/content/gdrive/My Drive/pointcloud/modelnet40_ply_hdf5_2048/ply_data_train0.h5','r')   #打开h5文件 "
      ],
      "execution_count": null,
      "outputs": []
    },
    {
      "cell_type": "code",
      "metadata": {
        "id": "BYPF0CWJKVHM",
        "colab": {
          "base_uri": "https://localhost:8080/",
          "height": 34
        },
        "outputId": "cb89a357-e769-4bc8-d052-3161a2ff4c55"
      },
      "source": [
        "print([key for key in data0.keys()])"
      ],
      "execution_count": null,
      "outputs": [
        {
          "output_type": "stream",
          "text": [
            "['data', 'faceId', 'label', 'normal']\n"
          ],
          "name": "stdout"
        }
      ]
    },
    {
      "cell_type": "code",
      "metadata": {
        "id": "YkCUMtVSKkiW"
      },
      "source": [
        "data0 = np.array(data0[\"data\"])"
      ],
      "execution_count": null,
      "outputs": []
    },
    {
      "cell_type": "code",
      "metadata": {
        "id": "gK2WYqVQK1x5",
        "colab": {
          "base_uri": "https://localhost:8080/",
          "height": 34
        },
        "outputId": "122736a3-e3dc-4653-9f67-38b622cb06b1"
      },
      "source": [
        "data0 = torch.Tensor(data0)\n",
        "print(data0.shape)"
      ],
      "execution_count": null,
      "outputs": [
        {
          "output_type": "stream",
          "text": [
            "torch.Size([2048, 2048, 3])\n"
          ],
          "name": "stdout"
        }
      ]
    },
    {
      "cell_type": "code",
      "metadata": {
        "id": "UKE-rRcXNp1N"
      },
      "source": [
        "data0 = data0.reshape(-1, 3)"
      ],
      "execution_count": null,
      "outputs": []
    },
    {
      "cell_type": "code",
      "metadata": {
        "id": "qf6G2zCQMbMI"
      },
      "source": [
        "data0 = data0[torch.randperm(data0.shape[0])[:2500]]"
      ],
      "execution_count": null,
      "outputs": []
    },
    {
      "cell_type": "code",
      "metadata": {
        "id": "h3j_bnxuVjGo"
      },
      "source": [
        "data0 = data0.transpose(1, 0).unsqueeze(dim=0)"
      ],
      "execution_count": null,
      "outputs": []
    },
    {
      "cell_type": "code",
      "metadata": {
        "id": "RvZpjK1im8Cu",
        "colab": {
          "base_uri": "https://localhost:8080/",
          "height": 34
        },
        "outputId": "63af758a-21b4-49cf-b36c-deb70838eaa2"
      },
      "source": [
        "filename1 = \"/content/gdrive/My Drive/pointcloud/modelnet40_ply_hdf5_2048/ply_data_train1.h5\"\n",
        "with h5py.File(filename1, \"r\") as f:\n",
        "  data1 = np.array(f[\"data\"])\n",
        "\n",
        "data1 = torch.Tensor(data1).reshape(-1, 3)\n",
        "data1 = data1[torch.randperm(data1.shape[0])[:2500]]\n",
        "data1 = data1.transpose(1, 0).unsqueeze(dim=0)\n",
        "print(data1.shape)"
      ],
      "execution_count": null,
      "outputs": [
        {
          "output_type": "stream",
          "text": [
            "torch.Size([1, 3, 2500])\n"
          ],
          "name": "stdout"
        }
      ]
    },
    {
      "cell_type": "code",
      "metadata": {
        "id": "oV0htTanN7fo",
        "colab": {
          "base_uri": "https://localhost:8080/",
          "height": 34
        },
        "outputId": "7ec940c7-1f8f-46a5-9312-e449995cefc8"
      },
      "source": [
        "data = torch.cat([data0, data1], dim=0)\n",
        "print(data.shape)"
      ],
      "execution_count": null,
      "outputs": [
        {
          "output_type": "stream",
          "text": [
            "torch.Size([2, 3, 2500])\n"
          ],
          "name": "stdout"
        }
      ]
    },
    {
      "cell_type": "code",
      "metadata": {
        "id": "cXgIYDHYAz8O"
      },
      "source": [
        "#split = \"train\"\n",
        "#root = \"C:/Users/hongw/Desktop/project/data/Patches_noHole_and_collected.h5\"\n",
        "#frame = os.path.join(root, f'{split}.txt')\n",
        "#with open(frame, 'r') as f:\n",
        "#  for line in f:\n",
        "#    break\n",
        "#    #self.fns.append(line.strip())"
      ],
      "execution_count": null,
      "outputs": []
    },
    {
      "cell_type": "markdown",
      "metadata": {
        "id": "ev-XLU3IrKSV"
      },
      "source": [
        "##STN"
      ]
    },
    {
      "cell_type": "markdown",
      "metadata": {
        "id": "JLZD0c6Xbodi"
      },
      "source": [
        "1.空间变换网络解决旋转问题  \n",
        "三维的STN可以通过学习点云本身的位置信息学习到一个最有利于网络进行分类或分割的DxD旋转矩阵（D代表特征维度，pointnet中D采用3和64）。至于其中的原理，我的理解是，通过控制最后的loss来对变换矩阵进行调整，pointnet并不关心最后真正做了什么变换，只要有利于最后的结果都可以。pointnet采用了两次STN，第一次input transform是对空间中点云进行调整，直观上理解是旋转出一个更有利于分类或分割的角度，比如把物体转到正面；第二次feature transform是对提取出的64维特征进行对齐，即在特征层面对点云进行变换。  \n",
        "2.maxpooling解决无序性问题  \n",
        "网络对每个点进行了一定程度的特征提取之后，max pooling可以对点云的整体提取出global feature。  \n",
        "\n",
        "![替代文字](https://![image.png](data:image/png;base64,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))\n"
      ]
    },
    {
      "cell_type": "code",
      "metadata": {
        "id": "XK5dLuvMU_je"
      },
      "source": [
        "conv1 = torch.nn.Conv1d(3, 64, 1) \n",
        "h = conv1(data)"
      ],
      "execution_count": null,
      "outputs": []
    },
    {
      "cell_type": "code",
      "metadata": {
        "id": "t1mL_NWVVy5N",
        "colab": {
          "base_uri": "https://localhost:8080/",
          "height": 34
        },
        "outputId": "f7a8a136-e232-4c38-c495-01d46bb0f6f8"
      },
      "source": [
        "h.shape"
      ],
      "execution_count": null,
      "outputs": [
        {
          "output_type": "execute_result",
          "data": {
            "text/plain": [
              "torch.Size([2, 64, 2500])"
            ]
          },
          "metadata": {
            "tags": []
          },
          "execution_count": 74
        }
      ]
    },
    {
      "cell_type": "code",
      "metadata": {
        "id": "A7Zpex01Fukq"
      },
      "source": [
        "class STN3d(nn.Module):\n",
        "    def __init__(self):\n",
        "        super(STN3d, self).__init__()\n",
        "        self.conv1 = torch.nn.Conv1d(3, 64, 1)\n",
        "        self.conv2 = torch.nn.Conv1d(64, 128, 1)\n",
        "        self.conv3 = torch.nn.Conv1d(128, 1024, 1)\n",
        "        self.fc1 = nn.Linear(1024, 512)\n",
        "        self.fc2 = nn.Linear(512, 256)\n",
        "        self.fc3 = nn.Linear(256, 9)\n",
        "        self.relu = nn.ReLU()\n",
        "\n",
        "        self.bn1 = nn.BatchNorm1d(64)\n",
        "        self.bn2 = nn.BatchNorm1d(128)\n",
        "        self.bn3 = nn.BatchNorm1d(1024)\n",
        "        self.bn4 = nn.BatchNorm1d(512)\n",
        "        self.bn5 = nn.BatchNorm1d(256)\n",
        "\n",
        "\n",
        "    def forward(self, x):\n",
        "        batchsize = x.size()[0]\n",
        "        x = fn.relu(self.bn1(self.conv1(x)))\n",
        "        \n",
        "        x = fn.relu(self.bn2(self.conv2(x)))\n",
        "        \n",
        "        x = fn.relu(self.bn3(self.conv3(x)))\n",
        "       \n",
        "        x = torch.max(x, 2, keepdim=True)[0]\n",
        "        \n",
        "        x = x.view(-1, 1024)\n",
        "        \n",
        "        \n",
        "\n",
        "        x = fn.relu(self.bn4(self.fc1(x)))\n",
        "        x = fn.relu(self.bn5(self.fc2(x)))\n",
        "        x = self.fc3(x)\n",
        "\n",
        "        iden = Variable(torch.from_numpy(np.array([1,0,0,0,1,0,0,0,1]).astype(np.float32))).view(1,9).repeat(batchsize,1)\n",
        "        if x.is_cuda:\n",
        "            iden = iden.cuda()\n",
        "        x = x + iden\n",
        "        x = x.view(-1, 3, 3)\n",
        "        return x\n"
      ],
      "execution_count": null,
      "outputs": []
    },
    {
      "cell_type": "code",
      "metadata": {
        "id": "_tvpk7BYLcCk",
        "colab": {
          "base_uri": "https://localhost:8080/",
          "height": 102
        },
        "outputId": "2bb5c887-b3f2-4268-cdd6-3d65912b75da"
      },
      "source": [
        "pnet = STN3d()\n",
        "h = pnet(data)"
      ],
      "execution_count": null,
      "outputs": [
        {
          "output_type": "stream",
          "text": [
            "torch.Size([2, 64, 2500])\n",
            "torch.Size([2, 128, 2500])\n",
            "torch.Size([2, 1024, 2500])\n",
            "torch.Size([2, 1024, 1])\n",
            "torch.Size([2, 1024])\n"
          ],
          "name": "stdout"
        }
      ]
    },
    {
      "cell_type": "code",
      "metadata": {
        "id": "qyF3w2qOqu1T",
        "colab": {
          "base_uri": "https://localhost:8080/",
          "height": 136
        },
        "outputId": "4b215a26-2010-4483-a5ad-69469005db91"
      },
      "source": [
        "print(h)"
      ],
      "execution_count": null,
      "outputs": [
        {
          "output_type": "stream",
          "text": [
            "tensor([[[ 0.6141,  0.2434, -0.2758],\n",
            "         [ 0.2750,  1.0667, -1.0410],\n",
            "         [ 0.7522,  0.0014,  0.2466]],\n",
            "\n",
            "        [[ 1.0392,  0.2653, -0.0485],\n",
            "         [-0.4570,  0.4721, -0.1100],\n",
            "         [-0.2469, -0.1511,  0.9804]]], grad_fn=<ViewBackward>)\n"
          ],
          "name": "stdout"
        }
      ]
    },
    {
      "cell_type": "markdown",
      "metadata": {
        "id": "JWIss-gurhbV"
      },
      "source": [
        "##STNkd"
      ]
    },
    {
      "cell_type": "code",
      "metadata": {
        "id": "-nFf0HVSr0tc"
      },
      "source": [
        "class STNkd(nn.Module):\n",
        "    def __init__(self, k=64):\n",
        "        super(STNkd, self).__init__()\n",
        "        self.conv1 = torch.nn.Conv1d(k, 64, 1)\n",
        "        self.conv2 = torch.nn.Conv1d(64, 128, 1)\n",
        "        self.conv3 = torch.nn.Conv1d(128, 1024, 1)\n",
        "        self.fc1 = nn.Linear(1024, 512)\n",
        "        self.fc2 = nn.Linear(512, 256)\n",
        "        self.fc3 = nn.Linear(256, k*k)\n",
        "        self.relu = nn.ReLU()\n",
        "\n",
        "        self.bn1 = nn.BatchNorm1d(64)\n",
        "        self.bn2 = nn.BatchNorm1d(128)\n",
        "        self.bn3 = nn.BatchNorm1d(1024) \n",
        "        self.bn4 = nn.BatchNorm1d(512)\n",
        "        self.bn5 = nn.BatchNorm1d(256)\n",
        "\n",
        "        self.k = k\n",
        "\n",
        "    def forward(self, x):\n",
        "        batchsize = x.size()[0]\n",
        "        x = fn.relu(self.bn1(self.conv1(x)))\n",
        "        x = fn.relu(self.bn2(self.conv2(x)))\n",
        "        x = fn.relu(self.bn3(self.conv3(x)))\n",
        "        x = torch.max(x, 2, keepdim=True)[0]\n",
        "        x = x.view(-1, 1024)\n",
        "\n",
        "        x = fn.relu(self.bn4(self.fc1(x)))\n",
        "        x = fn.relu(self.bn5(self.fc2(x)))\n",
        "        x = self.fc3(x)\n",
        "\n",
        "        iden = Variable(torch.from_numpy(np.eye(self.k).flatten().astype(np.float32))).view(1,self.k*self.k).repeat(batchsize,1)\n",
        "        if x.is_cuda:\n",
        "            iden = iden.cuda()\n",
        "        x = x + iden\n",
        "        x = x.view(-1, self.k, self.k)\n",
        "        return x"
      ],
      "execution_count": null,
      "outputs": []
    },
    {
      "cell_type": "code",
      "metadata": {
        "id": "7xsyC_1mr6Y3"
      },
      "source": [
        "pnet1 = STNkd()\n",
        "h1 = pnet1(data)"
      ],
      "execution_count": null,
      "outputs": []
    },
    {
      "cell_type": "markdown",
      "metadata": {
        "id": "RY8wIjDUsx70"
      },
      "source": [
        "##PointNetFeat"
      ]
    },
    {
      "cell_type": "code",
      "metadata": {
        "id": "V9Ej8BHCs3dB"
      },
      "source": [
        "class PointNetfeat(nn.Module):\n",
        "    def __init__(self, global_feat = True, feature_transform = False):\n",
        "        super(PointNetfeat, self).__init__()\n",
        "        self.stn = STN3d()\n",
        "        self.conv1 = torch.nn.Conv1d(3, 64, 1)\n",
        "        self.conv2 = torch.nn.Conv1d(64, 128, 1)\n",
        "        self.conv3 = torch.nn.Conv1d(128, 1024, 1)\n",
        "        self.bn1 = nn.BatchNorm1d(64)\n",
        "        self.bn2 = nn.BatchNorm1d(128)\n",
        "        self.bn3 = nn.BatchNorm1d(1024)\n",
        "        self.global_feat = global_feat\n",
        "        self.feature_transform = feature_transform\n",
        "        if self.feature_transform:\n",
        "            self.fstn = STNkd(k=64)\n",
        "\n",
        "    def forward(self, x):\n",
        "        n_pts = x.size()[2] #点云点的个数\n",
        "        trans = self.stn(x) \n",
        "        x = x.transpose(2, 1)\n",
        "        x = torch.bmm(x, trans) #矩阵相乘，经过STN后的点云\n",
        "        x = x.transpose(2, 1)\n",
        "        x = fn.relu(self.bn1(self.conv1(x))) \n",
        "\n",
        "        if self.feature_transform:\n",
        "            trans_feat = self.fstn(x)\n",
        "            x = x.transpose(2,1)\n",
        "            x = torch.bmm(x, trans_feat) # 第二次STN（64， 64）\n",
        "            x = x.transpose(2,1)\n",
        "        else:\n",
        "            trans_feat = None\n",
        "\n",
        "        pointfeat = x   # (2, 64, 2500)\n",
        "        x = fn.relu(self.bn2(self.conv2(x)))\n",
        "        x = self.bn3(self.conv3(x))   \n",
        "        x = torch.max(x, 2, keepdim=True)[0]  #global feature\n",
        "        x = x.view(-1, 1024)\n",
        "        if self.global_feat:\n",
        "            return x, trans, trans_feat  \n",
        "        else:\n",
        "            x = x.view(-1, 1024, 1).repeat(1, 1, n_pts) #每一个点都有一个global feat (2, 1024 2500)\n",
        "            return torch.cat([x, pointfeat], 1), trans, trans_feat #(2, 1088, 2500)"
      ],
      "execution_count": null,
      "outputs": []
    },
    {
      "cell_type": "code",
      "metadata": {
        "id": "6rZfoVKatA7T"
      },
      "source": [
        "pfeat = PointNetfeat(global_feat = False)\n",
        "a, b, c = pfeat(data)"
      ],
      "execution_count": null,
      "outputs": []
    },
    {
      "cell_type": "code",
      "metadata": {
        "id": "RcBcwKQCtVCO",
        "colab": {
          "base_uri": "https://localhost:8080/",
          "height": 51
        },
        "outputId": "16d96ff8-54a1-49df-e91d-379010015b26"
      },
      "source": [
        "print(a.shape)\n",
        "print(b.shape)\n"
      ],
      "execution_count": null,
      "outputs": [
        {
          "output_type": "stream",
          "text": [
            "torch.Size([2, 1088, 2500])\n",
            "torch.Size([2, 3, 3])\n"
          ],
          "name": "stdout"
        }
      ]
    },
    {
      "cell_type": "code",
      "metadata": {
        "id": "3QcOleDswS60"
      },
      "source": [
        "class PointNetCls(nn.Module):\n",
        "    def __init__(self, k=2, feature_transform=False):\n",
        "        super(PointNetCls, self).__init__()\n",
        "        self.feature_transform = feature_transform\n",
        "        self.feat = PointNetfeat(global_feat=True, feature_transform=feature_transform)\n",
        "        self.fc1 = nn.Linear(1024, 512)\n",
        "        self.fc2 = nn.Linear(512, 256)\n",
        "        self.fc3 = nn.Linear(256, k)\n",
        "        self.dropout = nn.Dropout(p=0.3)\n",
        "        self.bn1 = nn.BatchNorm1d(512)\n",
        "        self.bn2 = nn.BatchNorm1d(256)\n",
        "        self.relu = nn.ReLU()\n",
        "                            \n",
        "    def forward(self, x):\n",
        "        x, trans, trans_feat = self.feat(x)\n",
        "        x = fn.relu(self.bn1(self.fc1(x)))\n",
        "        x = fn.relu(self.bn2(self.dropout(self.fc2(x))))\n",
        "        x = self.fc3(x)\n",
        "        return fn.log_softmax(x, dim=1), trans, trans_feat #class torch.Size([32, 5])"
      ],
      "execution_count": null,
      "outputs": []
    },
    {
      "cell_type": "code",
      "metadata": {
        "id": "YpE9aqPfwcAQ",
        "colab": {
          "base_uri": "https://localhost:8080/",
          "height": 102
        },
        "outputId": "89b9641d-23cc-46d7-b2c5-fd2f16766206"
      },
      "source": [
        "pcls = PointNetCls()\n",
        "a, b, c = pcls(data)"
      ],
      "execution_count": null,
      "outputs": [
        {
          "output_type": "stream",
          "text": [
            "torch.Size([2, 64, 2500])\n",
            "torch.Size([2, 128, 2500])\n",
            "torch.Size([2, 1024, 2500])\n",
            "torch.Size([2, 1024, 1])\n",
            "torch.Size([2, 1024])\n"
          ],
          "name": "stdout"
        }
      ]
    },
    {
      "cell_type": "code",
      "metadata": {
        "id": "IU_0M83YxcJ5",
        "colab": {
          "base_uri": "https://localhost:8080/",
          "height": 51
        },
        "outputId": "fad8e07d-24a5-4918-9d4a-fb5abff607e7"
      },
      "source": [
        "print(a.shape)\n",
        "print(b.shape)"
      ],
      "execution_count": null,
      "outputs": [
        {
          "output_type": "stream",
          "text": [
            "torch.Size([2, 2])\n",
            "torch.Size([2, 3, 3])\n"
          ],
          "name": "stdout"
        }
      ]
    },
    {
      "cell_type": "code",
      "metadata": {
        "id": "Ltrklqc3xr_Q"
      },
      "source": [
        "class PointNetDenseCls(nn.Module):\n",
        "    def __init__(self, k = 2, feature_transform=False):\n",
        "        super(PointNetDenseCls, self).__init__()\n",
        "        self.k = k\n",
        "        self.feature_transform=feature_transform\n",
        "        self.feat = PointNetfeat(global_feat=False, feature_transform=feature_transform)\n",
        "        self.conv1 = torch.nn.Conv1d(1088, 512, 1)\n",
        "        self.conv2 = torch.nn.Conv1d(512, 256, 1)\n",
        "        self.conv3 = torch.nn.Conv1d(256, 128, 1)\n",
        "        self.conv4 = torch.nn.Conv1d(128, self.k, 1)\n",
        "        self.bn1 = nn.BatchNorm1d(512)\n",
        "        self.bn2 = nn.BatchNorm1d(256)\n",
        "        self.bn3 = nn.BatchNorm1d(128)\n",
        "\n",
        "    def forward(self, x):\n",
        "                           # x: [2, 3, 2500]\n",
        "        batchsize = x.size()[0]\n",
        "        n_pts = x.size()[2]\n",
        "        x, trans, trans_feat = self.feat(x)\n",
        "        x = fn.relu(self.bn1(self.conv1(x))) #[2, 512, 2500]\n",
        "        print(x.shape)\n",
        "        x = fn.relu(self.bn2(self.conv2(x))) #[2, 256, 2500]\n",
        "        print(x.shape)\n",
        "        x = fn.relu(self.bn3(self.conv3(x))) #[2, 128, 2500]\n",
        "        print(x.shape)\n",
        "        x = self.conv4(x) #[2, 3, 2500] k=3\n",
        "        print(x.shape)\n",
        "        x = x.transpose(2,1).contiguous() #[2, 2500, 3]\n",
        "        print(x.shape)\n",
        "        x = fn.log_softmax(x.view(-1,self.k), dim=-1) #[5000, 3]   ????\n",
        "        print(x.shape)\n",
        "        x = x.view(batchsize, n_pts, self.k) #[2, 2500, 3]\n",
        "        print(x.shape)\n",
        "        return x, trans, trans_feat   #seg torch.Size([B, 2500, k])"
      ],
      "execution_count": null,
      "outputs": []
    },
    {
      "cell_type": "code",
      "metadata": {
        "id": "YTYsHTuNDAXa",
        "colab": {
          "base_uri": "https://localhost:8080/",
          "height": 136
        },
        "outputId": "7f9d52e8-7650-44f1-be0c-ef836944e79f"
      },
      "source": [
        "pdense = PointNetDenseCls(k=3)\n",
        "h3 = pdense(data)"
      ],
      "execution_count": null,
      "outputs": [
        {
          "output_type": "stream",
          "text": [
            "torch.Size([2, 512, 2500])\n",
            "torch.Size([2, 256, 2500])\n",
            "torch.Size([2, 128, 2500])\n",
            "torch.Size([2, 3, 2500])\n",
            "torch.Size([2, 2500, 3])\n",
            "torch.Size([5000, 3])\n",
            "torch.Size([2, 2500, 3])\n"
          ],
          "name": "stdout"
        }
      ]
    },
    {
      "cell_type": "code",
      "metadata": {
        "id": "nUE0blMU1hep"
      },
      "source": [
        "def feature_transform_regularizer(trans):\n",
        "    d = trans.size()[1]\n",
        "    batchsize = trans.size()[0]\n",
        "    I = torch.eye(d)[None, :, :] #[1, 3, 3]\n",
        "    if trans.is_cuda:\n",
        "        I = I.cuda()\n",
        "    loss = torch.mean(torch.norm(torch.bmm(trans, trans.transpose(2,1)) - I, dim=(1,2)))\n",
        "    return loss"
      ],
      "execution_count": null,
      "outputs": []
    },
    {
      "cell_type": "code",
      "metadata": {
        "id": "ztCM0uBa1Leb",
        "colab": {
          "base_uri": "https://localhost:8080/",
          "height": 153
        },
        "outputId": "4f30d6b6-2ab1-4a16-c473-0c2cd33b8986"
      },
      "source": [
        "if __name__ == '__main__':\n",
        "    sim_data = Variable(torch.rand(32,3,2500))\n",
        "    trans = STN3d()\n",
        "    out = trans(sim_data)\n",
        "    print('stn', out.size()) #stn torch.Size([32, 3, 3])\n",
        "    print('loss', feature_transform_regularizer(out)) #loss tensor(2.3406, grad_fn=<MeanBackward0>)\n",
        "\n",
        "    sim_data_64d = Variable(torch.rand(32, 64, 2500))\n",
        "    trans = STNkd(k=64)\n",
        "    out = trans(sim_data_64d)\n",
        "    print('stn64d', out.size()) #stn64d torch.Size([32, 64, 64])\n",
        "    print('loss', feature_transform_regularizer(out)) #loss tensor(130.1158, grad_fn=<MeanBackward0>)\n",
        "\n",
        "    pointfeat = PointNetfeat(global_feat=True)\n",
        "    out, _, _ = pointfeat(sim_data)\n",
        "    print('global feat', out.size()) #global feat torch.Size([32, 1024])\n",
        "\n",
        "    pointfeat = PointNetfeat(global_feat=False)\n",
        "    out, _, _ = pointfeat(sim_data)\n",
        "    print('point feat', out.size()) #point feat torch.Size([32, 1088, 2500]) （64维point feat + 1024维global）\n",
        "\n",
        "    cls = PointNetCls(k = 5)\n",
        "    out, _, _ = cls(sim_data)\n",
        "    print('class', out.size()) #class torch.Size([32, 5])\n",
        "\n",
        "    seg = PointNetDenseCls(k = 3)\n",
        "    out, _, _ = seg(sim_data)\n",
        "    print('seg', out.size()) #seg torch.Size([32, 2500, 3])"
      ],
      "execution_count": null,
      "outputs": [
        {
          "output_type": "stream",
          "text": [
            "stn torch.Size([32, 3, 3])\n",
            "loss tensor(2.3406, grad_fn=<MeanBackward0>)\n",
            "stn64d torch.Size([32, 64, 64])\n",
            "loss tensor(130.1158, grad_fn=<MeanBackward0>)\n",
            "global feat torch.Size([32, 1024])\n",
            "point feat torch.Size([32, 1088, 2500])\n",
            "class torch.Size([32, 5])\n",
            "seg torch.Size([32, 2500, 3])\n"
          ],
          "name": "stdout"
        }
      ]
    },
    {
      "cell_type": "markdown",
      "metadata": {
        "id": "HCZSsQyhGsFT"
      },
      "source": [
        "pointnet 2"
      ]
    },
    {
      "cell_type": "code",
      "metadata": {
        "id": "sgx32c_UGsTB"
      },
      "source": [
        ""
      ],
      "execution_count": null,
      "outputs": []
    }
  ]
}