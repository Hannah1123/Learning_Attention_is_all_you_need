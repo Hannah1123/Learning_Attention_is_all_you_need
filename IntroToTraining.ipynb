{
  "nbformat": 4,
  "nbformat_minor": 0,
  "metadata": {
    "colab": {
      "name": "IntroToTraining.ipynb",
      "provenance": [],
      "include_colab_link": true
    },
    "kernelspec": {
      "name": "python3",
      "display_name": "Python 3"
    }
  },
  "cells": [
    {
      "cell_type": "markdown",
      "metadata": {
        "id": "view-in-github",
        "colab_type": "text"
      },
      "source": [
        "<a href=\"https://colab.research.google.com/github/Hannah1123/attentio/blob/master/IntroToTraining.ipynb\" target=\"_parent\"><img src=\"https://colab.research.google.com/assets/colab-badge.svg\" alt=\"Open In Colab\"/></a>"
      ]
    },
    {
      "cell_type": "code",
      "metadata": {
        "id": "DAbMVXRZMtJP",
        "colab_type": "code",
        "colab": {}
      },
      "source": [
        "import torch.nn as nn\n",
        "import torch"
      ],
      "execution_count": 0,
      "outputs": []
    },
    {
      "cell_type": "code",
      "metadata": {
        "id": "Tvz9kuK1Mvi4",
        "colab_type": "code",
        "colab": {}
      },
      "source": [
        "dummy_point_cloud = torch.rand(2, 900, 3)\n",
        "dummy_object_classes = torch.randint(high=40, size=(2,))"
      ],
      "execution_count": 0,
      "outputs": []
    },
    {
      "cell_type": "code",
      "metadata": {
        "id": "pHi8-wSNPsSA",
        "colab_type": "code",
        "outputId": "3f047b12-3cc2-40b3-e3b1-02f833793d1e",
        "colab": {
          "base_uri": "https://localhost:8080/",
          "height": 35
        }
      },
      "source": [
        "print(dummy_object_classes)"
      ],
      "execution_count": 0,
      "outputs": [
        {
          "output_type": "stream",
          "text": [
            "tensor([13, 22])\n"
          ],
          "name": "stdout"
        }
      ]
    },
    {
      "cell_type": "markdown",
      "metadata": {
        "id": "S4VZAN8MYqNd",
        "colab_type": "text"
      },
      "source": [
        "Deep Neural network based representation learning of 3D point clouds for stereo scene understanding."
      ]
    },
    {
      "cell_type": "code",
      "metadata": {
        "id": "TJ6y-k5kMeQZ",
        "colab_type": "code",
        "colab": {}
      },
      "source": [
        "MLP_OUT_DIM = 128\n",
        "CLASS_NUM = 40\n",
        "class MyPointNet(nn.Module):\n",
        "    def __init__(self):\n",
        "        super(MyPointNet, self).__init__()\n",
        "        self.mlp = \\\n",
        "            nn.Sequential(\n",
        "                nn.Linear(in_features=3,\n",
        "                          out_features=64),\n",
        "                nn.ReLU(),\n",
        "            nn.Linear(in_features=64,\n",
        "                      out_features=MLP_OUT_DIM),\n",
        "        )\n",
        "        self.classifier_head = nn.Sequential(\n",
        "            nn.Linear(in_features=MLP_OUT_DIM, \n",
        "                      out_features=MLP_OUT_DIM),\n",
        "            nn.ReLU(),\n",
        "            nn.Linear(in_features=MLP_OUT_DIM, \n",
        "                      out_features=CLASS_NUM)\n",
        "        ) # sequential\n",
        "        \n",
        "        \n",
        "        \n",
        "    def forward(self, pc):\n",
        "        \"\"\"\n",
        "        :param pc: an array of m x n x 3\n",
        "        \"\"\"\n",
        "        # order PC?\n",
        "        # how let's pretend it were ordered.\n",
        "        sample_num, point_num, coord_dim = pc.shape\n",
        "        assert coord_dim == 3, \"each point can have 3 features (coordinates in 3D)\"\n",
        "        features = self.mlp(pc.view(-1, 3))\\\n",
        "            .reshape(sample_num, point_num, MLP_OUT_DIM)\n",
        "        # aggregate the features:\n",
        "        pc_feat = torch.max(features, dim=1)[0]\n",
        "        #max的第0维是数据 第一维是该数据所在的位置\n",
        "        # classific\n",
        "        out = self.classifier_head(pc_feat)\n",
        "        return out\n"
      ],
      "execution_count": 0,
      "outputs": []
    },
    {
      "cell_type": "code",
      "metadata": {
        "id": "XbbL6MxUOU6e",
        "colab_type": "code",
        "colab": {}
      },
      "source": [
        "pcnet = MyPointNet()"
      ],
      "execution_count": 0,
      "outputs": []
    },
    {
      "cell_type": "code",
      "metadata": {
        "id": "N_XyWtV4OZDc",
        "colab_type": "code",
        "colab": {}
      },
      "source": [
        "dummy_out = pcnet(dummy)"
      ],
      "execution_count": 0,
      "outputs": []
    },
    {
      "cell_type": "code",
      "metadata": {
        "id": "4G5566qWOgJD",
        "colab_type": "code",
        "colab": {}
      },
      "source": [
        "# dummy_out[0]\n",
        "\n",
        "# now we interpret the values in output of each point cloud to be the\n",
        "# log-likelihood for that point cloud belongs to every object class.\n",
        "# e.g. Prob(PointCloud[0] is of class-3) == exp(dummy_out[0][3])\n",
        "#                                         ---------------------------\n",
        "#                                          sum_k exp(dummy_out[0][k])\n",
        "# In Pytorch, you can use torch.softmax.\n",
        "\n",
        "dummy_predicted_probability = torch.softmax(dummy_out, dim=1)"
      ],
      "execution_count": 0,
      "outputs": []
    },
    {
      "cell_type": "code",
      "metadata": {
        "id": "yg9cI4C7Qo8k",
        "colab_type": "code",
        "outputId": "0af66eec-bbf6-40e8-d474-57bc852ca483",
        "colab": {
          "base_uri": "https://localhost:8080/",
          "height": 123
        }
      },
      "source": [
        "dummy_predicted_probability[0], dummy_object_classes[0]"
      ],
      "execution_count": 0,
      "outputs": [
        {
          "output_type": "execute_result",
          "data": {
            "text/plain": [
              "(tensor([0.0250, 0.0265, 0.0262, 0.0282, 0.0275, 0.0238, 0.0281, 0.0219, 0.0236,\n",
              "         0.0271, 0.0254, 0.0234, 0.0262, 0.0248, 0.0239, 0.0230, 0.0254, 0.0255,\n",
              "         0.0247, 0.0255, 0.0214, 0.0268, 0.0259, 0.0228, 0.0227, 0.0263, 0.0218,\n",
              "         0.0277, 0.0229, 0.0262, 0.0255, 0.0250, 0.0263, 0.0220, 0.0260, 0.0246,\n",
              "         0.0228, 0.0283, 0.0229, 0.0262], grad_fn=<SelectBackward>),\n",
              " tensor(13))"
            ]
          },
          "metadata": {
            "tags": []
          },
          "execution_count": 20
        }
      ]
    },
    {
      "cell_type": "code",
      "metadata": {
        "id": "hqxWNc5cRZKu",
        "colab_type": "code",
        "colab": {}
      },
      "source": [
        "A = dummy_predicted_probability[0][dummy_object_classes[0]] + \\\n",
        "    dummy_predicted_probability[1][dummy_object_classes[1]]"
      ],
      "execution_count": 0,
      "outputs": []
    },
    {
      "cell_type": "code",
      "metadata": {
        "id": "Giw28H5XStCm",
        "colab_type": "code",
        "colab": {}
      },
      "source": [
        "A.backward()"
      ],
      "execution_count": 0,
      "outputs": []
    },
    {
      "cell_type": "code",
      "metadata": {
        "id": "6818SlPzTaZc",
        "colab_type": "code",
        "colab": {}
      },
      "source": [
        "params = list(pcnet.parameters())"
      ],
      "execution_count": 0,
      "outputs": []
    },
    {
      "cell_type": "code",
      "metadata": {
        "id": "-PtSrQ7sTgGN",
        "colab_type": "code",
        "colab": {}
      },
      "source": [
        "# params[0].grad\n",
        "params[0].data += params[0].grad * 0.1"
      ],
      "execution_count": 0,
      "outputs": []
    },
    {
      "cell_type": "code",
      "metadata": {
        "id": "HPNjBGLgUD_I",
        "colab_type": "code",
        "colab": {}
      },
      "source": [
        "dummy_out2 = pcnet(dummy)"
      ],
      "execution_count": 0,
      "outputs": []
    },
    {
      "cell_type": "code",
      "metadata": {
        "id": "iLoHDpcSUQ-N",
        "colab_type": "code",
        "colab": {}
      },
      "source": [
        "dummy_predicted_probability = torch.softmax(dummy_out2, dim=1)"
      ],
      "execution_count": 0,
      "outputs": []
    },
    {
      "cell_type": "code",
      "metadata": {
        "id": "dVNAELDPUMJO",
        "colab_type": "code",
        "colab": {}
      },
      "source": [
        "A2 = dummy_predicted_probability[0][dummy_object_classes[0]] + \\\n",
        "    dummy_predicted_probability[1][dummy_object_classes[1]]"
      ],
      "execution_count": 0,
      "outputs": []
    },
    {
      "cell_type": "code",
      "metadata": {
        "id": "UDjHR5MgUWj2",
        "colab_type": "code",
        "outputId": "e9522874-42e5-46e8-b5c8-9174a0ca2d6c",
        "colab": {
          "base_uri": "https://localhost:8080/",
          "height": 88
        }
      },
      "source": [
        "# you don't need to explicitly take softmax (including exp-op)\n",
        "# you don't need to explicitly take the predicted probability using the class label\n",
        "# you don't need to manually accumate predicted class prbability\n",
        "# you don't need to manually maintain the value of the parameters according to\n",
        "#   the gradient computed\n",
        "\n",
        "\n",
        "\n",
        "from torch.optim import Adam\n",
        "optim = Adam(pcnet.parameters(), lr=0.01)\n",
        "\n",
        "iternum = 0\n",
        "while True:\n",
        "    dummy_out = pcnet(dummy)\n",
        "    loss = torch.nn.functional.nll_loss(dummy_out, dummy_object_classes)\n",
        "    optim.zero_grad()\n",
        "    loss.backward()\n",
        "    optim.step()\n",
        "    print(loss)\n",
        "    iternum += 1\n",
        "    if iternum > 3:\n",
        "        break\n",
        "\n"
      ],
      "execution_count": 0,
      "outputs": [
        {
          "output_type": "stream",
          "text": [
            "tensor(-0.0266, grad_fn=<NllLossBackward>)\n",
            "tensor(-0.5715, grad_fn=<NllLossBackward>)\n",
            "tensor(-1.5681, grad_fn=<NllLossBackward>)\n",
            "tensor(-3.4721, grad_fn=<NllLossBackward>)\n"
          ],
          "name": "stdout"
        }
      ]
    },
    {
      "cell_type": "code",
      "metadata": {
        "id": "FxNSdyCvX39T",
        "colab_type": "code",
        "outputId": "ae585f00-3d3c-4c74-d36f-9fa5af68daad",
        "colab": {
          "base_uri": "https://localhost:8080/",
          "height": 194
        }
      },
      "source": [
        "torch.softmax(dummy_out, dim=1)"
      ],
      "execution_count": 0,
      "outputs": [
        {
          "output_type": "execute_result",
          "data": {
            "text/plain": [
              "tensor([[0.0071, 0.0218, 0.0057, 0.0093, 0.0137, 0.0057, 0.0125, 0.0030, 0.0140,\n",
              "         0.0055, 0.0111, 0.0110, 0.0066, 0.1732, 0.0079, 0.0020, 0.0074, 0.0045,\n",
              "         0.0081, 0.0204, 0.0048, 0.0149, 0.4436, 0.0039, 0.0117, 0.0071, 0.0093,\n",
              "         0.0177, 0.0139, 0.0141, 0.0088, 0.0104, 0.0105, 0.0066, 0.0140, 0.0124,\n",
              "         0.0072, 0.0144, 0.0143, 0.0099],\n",
              "        [0.0070, 0.0217, 0.0056, 0.0092, 0.0137, 0.0057, 0.0124, 0.0030, 0.0139,\n",
              "         0.0054, 0.0110, 0.0109, 0.0065, 0.1724, 0.0079, 0.0020, 0.0074, 0.0044,\n",
              "         0.0080, 0.0202, 0.0048, 0.0149, 0.4472, 0.0039, 0.0116, 0.0071, 0.0092,\n",
              "         0.0175, 0.0138, 0.0140, 0.0087, 0.0104, 0.0104, 0.0066, 0.0139, 0.0124,\n",
              "         0.0072, 0.0142, 0.0142, 0.0098]], grad_fn=<SoftmaxBackward>)"
            ]
          },
          "metadata": {
            "tags": []
          },
          "execution_count": 47
        }
      ]
    },
    {
      "cell_type": "code",
      "metadata": {
        "id": "c739dqNw6Ckv",
        "colab_type": "code",
        "outputId": "5b65404d-a6ac-42c7-90f2-466ea3a681c0",
        "colab": {
          "base_uri": "https://localhost:8080/",
          "height": 35
        }
      },
      "source": [
        "0.875 ** 5"
      ],
      "execution_count": 0,
      "outputs": [
        {
          "output_type": "execute_result",
          "data": {
            "text/plain": [
              "0.512908935546875"
            ]
          },
          "metadata": {
            "tags": []
          },
          "execution_count": 50
        }
      ]
    },
    {
      "cell_type": "code",
      "metadata": {
        "id": "Wb0NJGIR6H4f",
        "colab_type": "code",
        "colab": {}
      },
      "source": [
        ""
      ],
      "execution_count": 0,
      "outputs": []
    }
  ]
}